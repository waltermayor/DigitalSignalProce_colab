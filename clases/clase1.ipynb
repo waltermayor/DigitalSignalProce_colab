{
  "nbformat": 4,
  "nbformat_minor": 0,
  "metadata": {
    "colab": {
      "name": "clase1.ipynb",
      "version": "0.3.2",
      "provenance": [],
      "include_colab_link": true
    },
    "kernelspec": {
      "name": "python3",
      "display_name": "Python 3"
    }
  },
  "cells": [
    {
      "cell_type": "markdown",
      "metadata": {
        "id": "view-in-github",
        "colab_type": "text"
      },
      "source": [
        "<a href=\"https://colab.research.google.com/github/waltermayor/DigitalSignalProce_colab/blob/master/clases/clase1.ipynb\" target=\"_parent\"><img src=\"https://colab.research.google.com/assets/colab-badge.svg\" alt=\"Open In Colab\"/></a>"
      ]
    },
    {
      "cell_type": "markdown",
      "metadata": {
        "id": "n7SGeEPvWNOI",
        "colab_type": "text"
      },
      "source": [
        "## **Clasificación de señales**\n",
        "\n",
        "señales reales y complejas"
      ]
    },
    {
      "cell_type": "code",
      "metadata": {
        "id": "2Hc0kXWPV77a",
        "colab_type": "code",
        "colab": {
          "base_uri": "https://localhost:8080/",
          "height": 295
        },
        "outputId": "4f17dd12-65ab-4cb1-ff6d-a5bdd92c2325"
      },
      "source": [
        "import numpy as np\n",
        "import matplotlib.pyplot as plt\n",
        "\n",
        "# INGRESO\n",
        "a = -5 # rango de tiempo\n",
        "b = 5\n",
        "dt = 0.1\n",
        "sigma = 0  # s = 0 +0j\n",
        "omega = 0\n",
        "\n",
        "# PROCEDIMIENTO\n",
        "t = np.arange(a, b, dt)\n",
        "s = complex(sigma,omega)\n",
        "senal = np.exp(s*t)\n",
        "\n",
        "# SALIDA - gráfica\n",
        "plt.figure(1)\n",
        "plt.plot(t,np.real(senal),label='real')\n",
        "plt.plot(t,np.imag(senal),label='imaginaria')\n",
        "plt.xlabel('t')\n",
        "plt.ylabel('x(t)')\n",
        "plt.legend()\n",
        "plt.margins(0.1)\n",
        "plt.title('e^('+str(sigma) +' + '+str(omega)+'j)')\n",
        "plt.show()\n"
      ],
      "execution_count": 1,
      "outputs": [
        {
          "output_type": "display_data",
          "data": {
            "image/png": "[encoded data removed]",
            "text/plain": [
              "<Figure size 432x288 with 1 Axes>"
            ]
          },
          "metadata": {
            "tags": []
          }
        }
      ]
    },
    {
      "cell_type": "code",
      "metadata": {
        "id": "ESRHIvNUWeQn",
        "colab_type": "code",
        "colab": {
          "base_uri": "https://localhost:8080/",
          "height": 295
        },
        "outputId": "a38c98e4-bd16-4d43-e80d-7b3d4777b0a5"
      },
      "source": [
        "# un exponencial simple σ>0 ω=0 \n",
        "sigma = 1\n",
        "omega = 0\n",
        "\n",
        "s = complex(sigma,omega)\n",
        "senal = np.exp(s*t)\n",
        "\n",
        "# SALIDA - gráfica\n",
        "plt.figure(2)\n",
        "plt.plot(t,np.real(senal),label='real')\n",
        "plt.plot(t,np.imag(senal),label='imaginaria')\n",
        "plt.xlabel('t')\n",
        "plt.ylabel('x(t)')\n",
        "plt.legend()\n",
        "plt.margins(0.1)\n",
        "plt.title('e^('+str(sigma) +' + '+str(omega)+'j)')\n",
        "plt.show()"
      ],
      "execution_count": 2,
      "outputs": [
        {
          "output_type": "display_data",
          "data": {
            "image/png": "[encoded data removed]",
            "text/plain": [
              "<Figure size 432x288 with 1 Axes>"
            ]
          },
          "metadata": {
            "tags": []
          }
        }
      ]
    },
    {
      "cell_type": "code",
      "metadata": {
        "id": "2UfblV9yWt7M",
        "colab_type": "code",
        "colab": {}
      },
      "source": [
        "# un exponencial simple σ<0 ω=0\n",
        "sigma = -1\n",
        "omega = 0\n",
        "\n",
        "s = complex(sigma,omega)\n",
        "senal = np.exp(s*t)\n",
        "\n",
        "# SALIDA - gráfica\n",
        "plt.figure(3)\n",
        "plt.plot(t,np.real(senal),label='real')\n",
        "plt.plot(t,np.imag(senal),label='imaginaria')\n",
        "plt.xlabel('t')\n",
        "plt.ylabel('x(t)')\n",
        "plt.legend()\n",
        "plt.margins(0.1)\n",
        "plt.title('e^('+str(sigma) +' + '+str(omega)+'j)')\n",
        "plt.show()"
      ],
      "execution_count": 0,
      "outputs": []
    },
    {
      "cell_type": "code",
      "metadata": {
        "id": "kdvQjEG4XJVy",
        "colab_type": "code",
        "colab": {}
      },
      "source": [
        "# un sinusiode σ=0, ω>0\n",
        "sigma = 0\n",
        "omega = 1\n",
        "\n",
        "s = complex(sigma,omega)\n",
        "senal = np.exp(s*t)\n",
        "\n",
        "# SALIDA - gráfica\n",
        "plt.figure(4)\n",
        "plt.plot(t,np.real(senal),label='real')\n",
        "plt.plot(t,np.imag(senal),label='imaginaria')\n",
        "plt.xlabel('t')\n",
        "plt.ylabel('x(t)')\n",
        "plt.legend()\n",
        "plt.margins(0.1)\n",
        "plt.title('e^('+str(sigma) +' + '+str(omega)+'j)')\n",
        "plt.show()"
      ],
      "execution_count": 0,
      "outputs": []
    }
  ]
}